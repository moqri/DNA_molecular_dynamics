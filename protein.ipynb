{
 "cells": [
  {
   "cell_type": "code",
   "execution_count": 2,
   "metadata": {},
   "outputs": [],
   "source": [
    "from timeit import default_timer as timer"
   ]
  },
  {
   "cell_type": "code",
   "execution_count": 70,
   "metadata": {},
   "outputs": [
    {
     "name": "stdout",
     "output_type": "stream",
     "text": [
      "--2020-04-22 15:33:34--  https://raw.githubusercontent.com/moqri/DNA_molecular_dynamics/master/1tgh-5.pdb\n",
      "Resolving raw.githubusercontent.com (raw.githubusercontent.com)... 151.101.192.133, 151.101.128.133, 151.101.64.133, ...\n",
      "Connecting to raw.githubusercontent.com (raw.githubusercontent.com)|151.101.192.133|:443... connected.\n",
      "HTTP request sent, awaiting response... 416 Range Not Satisfiable\n",
      "\n",
      "    The file is already fully retrieved; nothing to do.\n",
      "\n"
     ]
    }
   ],
   "source": [
    "#!wget -N https://files.rcsb.org/download/1TGH.pdb -O 1TGH.pdb\n",
    "#!wget -N https://files.rcsb.org/download/1CDW.pdb\n",
    "!wget -c https://raw.githubusercontent.com/moqri/DNA_molecular_dynamics/master/1tgh-5.pdb -O 1TGH.pdb"
   ]
  },
  {
   "cell_type": "code",
   "execution_count": 71,
   "metadata": {},
   "outputs": [
    {
     "data": {
      "application/vnd.jupyter.widget-view+json": {
       "model_id": "c094046b285047b1b0dc96bf60ba5203",
       "version_major": 2,
       "version_minor": 0
      },
      "text/plain": [
       "NGLWidget()"
      ]
     },
     "metadata": {},
     "output_type": "display_data"
    }
   ],
   "source": [
    "#interactive \n",
    "import pytraj as pt\n",
    "import nglview as nv\n",
    "\n",
    "traj = pt.load('1TGH.pdb')\n",
    "pt.rotate(traj, 'y 90')\n",
    "view = nv.show_pytraj(traj)\n",
    "view"
   ]
  },
  {
   "cell_type": "code",
   "execution_count": 72,
   "metadata": {},
   "outputs": [
    {
     "data": {
      "text/plain": [
       "<Topology; 3 chains, 204 residues, 1915 atoms, 1999 bonds>"
      ]
     },
     "execution_count": 72,
     "metadata": {},
     "output_type": "execute_result"
    }
   ],
   "source": [
    "from simtk.openmm.app import *\n",
    "from simtk.openmm import *\n",
    "from simtk.unit import *\n",
    "from sys import stdout\n",
    "pdb = PDBFile('1TGH.pdb')\n",
    "pdb.getTopology()"
   ]
  },
  {
   "cell_type": "code",
   "execution_count": 90,
   "metadata": {},
   "outputs": [],
   "source": [
    "from pdbfixer import PDBFixer\n",
    "fixer = PDBFixer(filename='1TGH.pdb')\n",
    "fixer.findMissingResidues()\n",
    "fixer.findNonstandardResidues()\n",
    "fixer.replaceNonstandardResidues()\n",
    "fixer.removeHeterogens(True)\n",
    "fixer.findMissingAtoms()\n",
    "fixer.addMissingAtoms()\n",
    "fixer.addMissingHydrogens(7.0)\n",
    "#fixer.addSolvent(fixer.topology.getUnitCellDimensions())\n",
    "fixer.addSolvent(padding=10*angstrom)\n",
    "PDBFile.writeFile(fixer.topology, fixer.positions, open('1TGH_fixed.pdb', 'w'))"
   ]
  },
  {
   "cell_type": "code",
   "execution_count": 91,
   "metadata": {},
   "outputs": [
    {
     "data": {
      "text/plain": [
       "<Topology; 5 chains, 14805 residues, 47507 atoms, 32990 bonds>"
      ]
     },
     "execution_count": 91,
     "metadata": {},
     "output_type": "execute_result"
    }
   ],
   "source": [
    "fixer.topology"
   ]
  },
  {
   "cell_type": "code",
   "execution_count": 92,
   "metadata": {},
   "outputs": [
    {
     "data": {
      "application/vnd.jupyter.widget-view+json": {
       "model_id": "c094046b285047b1b0dc96bf60ba5203",
       "version_major": 2,
       "version_minor": 0
      },
      "text/plain": [
       "NGLWidget(n_components=1, picked={'atom1': {'index': 1797, 'residueIndex': 198, 'resname': 'DT', 'x': 16.72599…"
      ]
     },
     "metadata": {},
     "output_type": "display_data"
    }
   ],
   "source": [
    "traj = pt.load('1TGH_fixed.pdb')\n",
    "pt.rotate(traj, 'y 90')\n",
    "view "
   ]
  },
  {
   "cell_type": "code",
   "execution_count": 50,
   "metadata": {},
   "outputs": [
    {
     "data": {
      "text/plain": [
       "147.36914913200008"
      ]
     },
     "execution_count": 50,
     "metadata": {},
     "output_type": "execute_result"
    }
   ],
   "source": [
    "integrator = LangevinIntegrator(300*kelvin, 1/picosecond, 0.002*picoseconds)\n",
    "forcefield = ForceField('amber14-all.xml', 'amber14/tip3pfb.xml')\n",
    "#system = forcefield.createSystem(fixer.topology)\n",
    "system = forcefield.createSystem(fixer.topology, nonbondedCutoff=1*nanometer, constraints=HBonds, \n",
    "                                 nonbondedMethod=app.NoCutoff)#,nonbondedMethod=PME,\n",
    "simulation = Simulation(fixer.topology, system, integrator)\n",
    "simulation.context.setPositions(fixer.positions)\n",
    "start = timer()\n",
    "simulation.minimizeEnergy()\n",
    "timer()-start"
   ]
  },
  {
   "cell_type": "code",
   "execution_count": 51,
   "metadata": {
    "scrolled": true
   },
   "outputs": [
    {
     "name": "stdout",
     "output_type": "stream",
     "text": [
      "#\"Step\",\"Potential Energy (kJ/mole)\",\"Temperature (K)\"\n",
      "100,-854315.0,54.77718091350822\n",
      "200,-836224.5,99.20032317538295\n",
      "300,-821387.25,135.40478006976664\n",
      "400,-808539.875,164.7608061127961\n",
      "500,-798157.625,188.42944795204372\n",
      "600,-789697.0,208.55774958706158\n",
      "700,-781193.0625,221.77779821983017\n",
      "800,-775717.25,236.42118275650978\n",
      "900,-770324.125,245.04993550836943\n",
      "1000,-765938.6875,253.49526945253115\n",
      "1100,-762525.5,262.48222841156996\n",
      "1200,-758944.25,266.7726531175099\n",
      "1300,-756074.0625,271.75856373408834\n",
      "1400,-754176.25,276.94150620660844\n",
      "1500,-751726.4375,279.1500593084453\n",
      "1600,-749299.5625,281.6803123184956\n",
      "1700,-747912.5,284.2319660293006\n",
      "1800,-746726.625,287.27373002412173\n",
      "1900,-745859.375,288.4091147883328\n",
      "2000,-744402.125,289.20082686509886\n",
      "2100,-743773.5,290.55046285564293\n",
      "2200,-742594.1875,290.9579324214575\n",
      "2300,-742110.25,295.0441238460271\n",
      "2400,-740261.4375,294.2527073126853\n",
      "2500,-740479.1875,297.22289965913467\n",
      "2600,-739772.5625,295.1404681612308\n",
      "2700,-738989.125,294.841904139978\n",
      "2800,-738503.4375,295.0065745468943\n",
      "2900,-738501.625,298.15224673276595\n",
      "3000,-737762.3125,296.8534599010265\n",
      "3100,-737619.3125,300.0784969265436\n",
      "3200,-737326.5,299.84491339867003\n",
      "3300,-737158.0,300.49987069867507\n",
      "3400,-737227.0,300.9105000392933\n",
      "3500,-736169.25,299.03407999146884\n",
      "3600,-736650.875,299.61954185990146\n",
      "3700,-736135.4375,299.5753007484914\n",
      "3800,-735956.125,298.34075118510333\n",
      "3900,-736793.625,298.15531549924407\n",
      "4000,-737698.0,299.372730152462\n",
      "4100,-738020.125,299.3091542369633\n",
      "4200,-737041.75,299.97570802091315\n",
      "4300,-737001.6875,298.78993339974846\n",
      "4400,-736854.0,296.87401622625356\n",
      "4500,-737318.375,297.9572953737601\n",
      "4600,-737495.875,297.3826248840903\n",
      "4700,-737294.75,296.0385221053892\n",
      "4800,-738726.375,299.2119093778886\n",
      "4900,-738581.625,299.08928118863327\n",
      "5000,-738405.375,298.4554658840802\n",
      "5100,-737959.0,296.7307324532265\n",
      "5200,-738087.5625,296.86871384022305\n",
      "5300,-738238.0625,297.5927310214757\n",
      "5400,-738698.5,299.8561790560386\n",
      "5500,-737127.375,296.894013888444\n",
      "5600,-737065.25,297.591635530058\n",
      "5700,-737796.0,298.84297297618855\n",
      "5800,-737302.5,298.66858097226975\n",
      "5900,-736780.1875,298.5641184654692\n",
      "6000,-737062.375,300.57290525918916\n",
      "6100,-737667.25,299.8440503882333\n",
      "6200,-736990.5,298.4776201036111\n",
      "6300,-738301.4375,300.67887560833987\n",
      "6400,-737112.25,299.52582480603036\n",
      "6500,-737638.125,299.85536230775244\n",
      "6600,-737766.625,301.42113990928635\n",
      "6700,-737530.5,299.25785401708015\n",
      "6800,-736719.875,299.088402676757\n",
      "6900,-737138.6875,300.14913645760396\n",
      "7000,-737193.875,299.25393116722046\n",
      "7100,-737282.125,301.7773427966095\n",
      "7200,-736517.875,299.7294947211076\n",
      "7300,-736240.5625,298.3030046240602\n",
      "7400,-737515.4375,300.5617432279036\n",
      "7500,-737035.9375,298.2239749705986\n",
      "7600,-737390.25,299.8383751365254\n",
      "7700,-737447.8125,298.9918965043621\n",
      "7800,-737721.625,300.2324247930615\n",
      "7900,-737519.375,299.92872872102373\n",
      "8000,-737517.6875,299.2959277122499\n",
      "8100,-737881.5,299.89377960412355\n",
      "8200,-737912.375,300.51292110268537\n",
      "8300,-738647.5625,301.64963885175393\n",
      "8400,-738003.625,299.78730210890967\n",
      "8500,-737349.875,298.93919345213783\n",
      "8600,-738045.5625,300.6979015328848\n",
      "8700,-738288.5,300.11697813993055\n",
      "8800,-738111.5,300.5439076211693\n",
      "8900,-737589.3125,298.3975625743836\n",
      "9000,-738645.0625,299.4127705418941\n",
      "9100,-738130.375,299.4828256368385\n",
      "9200,-738513.625,300.7184214657085\n",
      "9300,-738950.875,300.99073885954596\n",
      "9400,-738513.0,299.4190222900529\n",
      "9500,-738795.5625,300.8609105197922\n",
      "9600,-738402.75,300.2714726200967\n",
      "9700,-738500.875,298.7431215161225\n",
      "9800,-738493.0,299.031494220383\n",
      "9900,-737437.0625,297.51095482086004\n",
      "10000,-738773.0,299.80529317239433\n"
     ]
    }
   ],
   "source": [
    "simulation.reporters.append(PDBReporter('1TGH_fixed_md.pdb',100))\n",
    "simulation.reporters.append(StateDataReporter(stdout, 100, step=True,potentialEnergy=True, temperature=True))\n",
    "simulation.step(10000)"
   ]
  },
  {
   "cell_type": "code",
   "execution_count": 93,
   "metadata": {},
   "outputs": [
    {
     "data": {
      "application/vnd.jupyter.widget-view+json": {
       "model_id": "ca3fb4ae753e4391873578be524d61b9",
       "version_major": 2,
       "version_minor": 0
      },
      "text/plain": [
       "NGLWidget(max_frame=99)"
      ]
     },
     "metadata": {},
     "output_type": "display_data"
    }
   ],
   "source": [
    "traj = pt.load('1TGH_fixed_md.pdb')\n",
    "pt.rotate(traj, 'y 90')\n",
    "view = nv.show_pytraj(traj)\n",
    "#view.add_ball_and_stick('not protein')\n",
    "view"
   ]
  },
  {
   "cell_type": "code",
   "execution_count": null,
   "metadata": {},
   "outputs": [],
   "source": []
  }
 ],
 "metadata": {
  "kernelspec": {
   "display_name": "md",
   "language": "python",
   "name": "md"
  },
  "language_info": {
   "codemirror_mode": {
    "name": "ipython",
    "version": 3
   },
   "file_extension": ".py",
   "mimetype": "text/x-python",
   "name": "python",
   "nbconvert_exporter": "python",
   "pygments_lexer": "ipython3",
   "version": "3.7.6"
  }
 },
 "nbformat": 4,
 "nbformat_minor": 4
}
