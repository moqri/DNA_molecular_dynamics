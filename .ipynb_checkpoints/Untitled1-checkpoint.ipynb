{
 "cells": [
  {
   "cell_type": "code",
   "execution_count": null,
   "metadata": {},
   "outputs": [],
   "source": [
    "from time import sleep\n",
    "for frame in range(0, 30):\n",
    "    view.frame = frame\n",
    "    # make sure to let NGL spending enough time to update coordinates\n",
    "    sleep(0.5)\n",
    "    view.download_image(filename='0image{}.png'.format(frame))\n",
    "    # make sure to let NGL spending enough time to render before going to next frame\n",
    "    sleep(2.0)\n",
    "#move images to renders/DNA_denature\n",
    "import moviepy.editor as mpy\n",
    "template = 'renders/DNA_denature/0image{}.png'\n",
    "imagefiles = [template.format(str(i)) for i in range(0, 30)]\n",
    "frame_per_second = 8\n",
    "im = mpy.ImageSequenceClip(imagefiles, fps=frame_per_second)\n",
    "im.write_gif('renders/my_movie.gif', fps=frame_per_second)\n",
    "from IPython import display\n",
    "display.HTML(\"<img src='renders/my_movie.gif'></img>\")"
   ]
  }
 ],
 "metadata": {
  "kernelspec": {
   "display_name": "nglview",
   "language": "python",
   "name": "nglview"
  },
  "language_info": {
   "codemirror_mode": {
    "name": "ipython",
    "version": 3
   },
   "file_extension": ".py",
   "mimetype": "text/x-python",
   "name": "python",
   "nbconvert_exporter": "python",
   "pygments_lexer": "ipython3",
   "version": "3.6.10"
  }
 },
 "nbformat": 4,
 "nbformat_minor": 4
}
