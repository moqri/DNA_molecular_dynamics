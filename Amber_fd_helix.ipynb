{
 "cells": [
  {
   "cell_type": "code",
   "execution_count": 3,
   "metadata": {},
   "outputs": [],
   "source": [
    "#conda install -c ambermd pytraj\n",
    "#conda install -c bioconda nglview\n",
    "#jupyter-nbextension enable nglview --py --sys-prefix\n",
    "#%matplotlib widget"
   ]
  },
  {
   "cell_type": "code",
   "execution_count": 1,
   "metadata": {},
   "outputs": [
    {
     "data": {
      "application/vnd.jupyter.widget-view+json": {
       "model_id": "780042d52ba74955a15b4176e742d11e",
       "version_major": 2,
       "version_minor": 0
      },
      "text/plain": [
       "NGLWidget()"
      ]
     },
     "metadata": {},
     "output_type": "display_data"
    }
   ],
   "source": [
    "#interactive \n",
    "import pytraj as pt\n",
    "import nglview as nv\n",
    "from subprocess import call\n",
    "with open(\"polyA.pdb\", \"w\") as f:\n",
    "    call([\"./fd_helix\", \"abdna\",\"aaaaaaaaaa\"], stdout=f)\n",
    "traj = pt.load('polyA.pdb')\n",
    "pt.rotate(traj, 'y 90')\n",
    "view = nv.show_pytraj(traj)\n",
    "view"
   ]
  },
  {
   "cell_type": "code",
   "execution_count": 4,
   "metadata": {},
   "outputs": [],
   "source": [
    "#conda install -c omnia openmm\n",
    "from simtk.openmm.app import *\n",
    "from simtk.openmm import *\n",
    "from simtk.unit import *\n",
    "from sys import stdout\n",
    "\n",
    "pdb = PDBFile('polyA.pdb')\n",
    "forcefield = ForceField('amber14-all.xml', 'amber14/tip3pfb.xml')"
   ]
  },
  {
   "cell_type": "code",
   "execution_count": 5,
   "metadata": {},
   "outputs": [
    {
     "data": {
      "text/plain": [
       "<Topology; 2 chains, 20 residues, 404 atoms, 452 bonds>"
      ]
     },
     "execution_count": 5,
     "metadata": {},
     "output_type": "execute_result"
    }
   ],
   "source": [
    "pdb.getTopology()"
   ]
  },
  {
   "cell_type": "code",
   "execution_count": 63,
   "metadata": {},
   "outputs": [
    {
     "data": {
      "text/plain": [
       "<Topology; 2 chains, 20 residues, 638 atoms, 686 bonds>"
      ]
     },
     "execution_count": 63,
     "metadata": {},
     "output_type": "execute_result"
    }
   ],
   "source": [
    "modeller = Modeller (pdb.topology, pdb.positions)\n",
    "modeller.addHydrogens (forcefield)\n",
    "modeller.getTopology()"
   ]
  },
  {
   "cell_type": "code",
   "execution_count": 52,
   "metadata": {},
   "outputs": [
    {
     "data": {
      "application/vnd.jupyter.widget-view+json": {
       "model_id": "a7a8393019f64f4b8330e2a873ed5bbc",
       "version_major": 2,
       "version_minor": 0
      },
      "text/plain": [
       "NGLWidget()"
      ]
     },
     "metadata": {},
     "output_type": "display_data"
    }
   ],
   "source": [
    "pdbfile.PDBFile.writeModel(modeller.topology,modeller.positions,open('polyA_with_H.pdb','w'))\n",
    "traj = pt.load('polyA_with_H.pdb')\n",
    "pt.rotate(traj, 'y 90')\n",
    "view = nv.show_pytraj(traj)\n",
    "view.add_ball_and_stick('not protein')\n",
    "view"
   ]
  },
  {
   "cell_type": "code",
   "execution_count": 54,
   "metadata": {},
   "outputs": [],
   "source": [
    "integrator = LangevinIntegrator(300*kelvin, 1/picosecond, 0.001*picoseconds)\n",
    "system = forcefield.createSystem(modeller.topology)\n",
    "simulation = Simulation(modeller.topology, system, integrator)\n",
    "simulation.context.setPositions(modeller.positions)\n",
    "#simulation.minimizeEnergy()"
   ]
  },
  {
   "cell_type": "code",
   "execution_count": 55,
   "metadata": {
    "scrolled": true
   },
   "outputs": [
    {
     "name": "stdout",
     "output_type": "stream",
     "text": [
      "#\"Step\",\"Potential Energy (kJ/mole)\",\"Temperature (K)\"\n",
      "500,6981.203261213962,239.86983957537723\n",
      "1000,6719.917567720995,308.99215059879424\n",
      "1500,6532.875744250281,311.1981002429001\n",
      "2000,6334.827816990035,317.8482000753725\n",
      "2500,5902.721179987237,335.1159495708905\n",
      "3000,5647.048755895921,348.2957781085975\n"
     ]
    }
   ],
   "source": [
    "simulation.reporters.append(PDBReporter('polyA_with_H.pdb',100))\n",
    "simulation.reporters.append(StateDataReporter(stdout, 500, step=True,potentialEnergy=True, temperature=True))\n",
    "simulation.step(3000)"
   ]
  },
  {
   "cell_type": "code",
   "execution_count": 56,
   "metadata": {},
   "outputs": [
    {
     "data": {
      "application/vnd.jupyter.widget-view+json": {
       "model_id": "f1d83da97c5a4a3299bed76e0c9cc09b",
       "version_major": 2,
       "version_minor": 0
      },
      "text/plain": [
       "NGLWidget(count=30)"
      ]
     },
     "metadata": {},
     "output_type": "display_data"
    }
   ],
   "source": [
    "traj = pt.load('polyA_with_H.pdb')\n",
    "pt.rotate(traj, 'y 90')\n",
    "view = nv.show_pytraj(traj)\n",
    "view.add_ball_and_stick('not protein')\n",
    "view"
   ]
  },
  {
   "cell_type": "code",
   "execution_count": 57,
   "metadata": {},
   "outputs": [],
   "source": [
    "import parmed as pmd\n",
    "pdbfile = PDBFile('polyA_with_H.pdb')\n",
    "structure = pmd.openmm.topsystem.load_topology( pdbfile.topology, system, pdbfile.positions)\n",
    "structure.save('polyA_with_H.prmtop', overwrite=True)\n",
    "structure.save('polyA_with_H.inpcrd', format='rst7', overwrite=True)\n",
    "prmtop = AmberPrmtopFile('polyA_with_H.prmtop')\n",
    "inpcrd = AmberInpcrdFile('polyA_with_H.inpcrd')"
   ]
  },
  {
   "cell_type": "code",
   "execution_count": 58,
   "metadata": {},
   "outputs": [],
   "source": [
    "integrator = LangevinIntegrator(300*kelvin, 1/picosecond, 0.001*picoseconds)\n",
    "system = prmtop.createSystem(implicitSolvent=HCT)\n",
    "simulation = Simulation(modeller.topology, system, integrator)\n",
    "simulation.context.setPositions(modeller.positions)"
   ]
  },
  {
   "cell_type": "code",
   "execution_count": 59,
   "metadata": {},
   "outputs": [
    {
     "name": "stdout",
     "output_type": "stream",
     "text": [
      "#\"Step\",\"Potential Energy (kJ/mole)\",\"Temperature (K)\"\n",
      "500,959853.4643318169,245.92935233475353\n",
      "1000,959947.4968398239,287.5585338938845\n",
      "1500,959908.8699692322,302.30489407926143\n",
      "2000,959978.651608094,303.532845895831\n",
      "2500,959937.0835806776,310.7650391058689\n",
      "3000,960022.0727711146,305.5461629923154\n"
     ]
    }
   ],
   "source": [
    "simulation.reporters.append(PDBReporter('polyA_with_H.pdb',100))\n",
    "simulation.reporters.append(StateDataReporter(stdout, 500, step=True,potentialEnergy=True, temperature=True))\n",
    "simulation.step(3000)"
   ]
  },
  {
   "cell_type": "code",
   "execution_count": 61,
   "metadata": {},
   "outputs": [
    {
     "data": {
      "application/vnd.jupyter.widget-view+json": {
       "model_id": "36bef994fbd14e89812c8f921742db79",
       "version_major": 2,
       "version_minor": 0
      },
      "text/plain": [
       "NGLWidget(count=30)"
      ]
     },
     "metadata": {},
     "output_type": "display_data"
    }
   ],
   "source": [
    "traj = pt.load('polyA_with_H.pdb')\n",
    "pt.rotate(traj, 'y 90')\n",
    "view = nv.show_pytraj(traj)\n",
    "view.add_ball_and_stick('not protein')\n",
    "view"
   ]
  },
  {
   "cell_type": "code",
   "execution_count": 8,
   "metadata": {},
   "outputs": [],
   "source": [
    "modeller.addSolvent(forcefield, boxSize=Vec3(5.0, 3.5, 3.5)*nanometers)"
   ]
  },
  {
   "cell_type": "code",
   "execution_count": 18,
   "metadata": {},
   "outputs": [
    {
     "name": "stdout",
     "output_type": "stream",
     "text": [
      "#\"Step\",\"Potential Energy (kJ/mole)\",\"Temperature (K)\"\n",
      "500,-83152.88013430672,367.05435262261403\n",
      "1000,-85480.01272899934,351.956496970958\n",
      "1500,-87440.0901430419,349.49217410511903\n",
      "2000,-89149.71424868779,340.6452197615849\n",
      "2500,-90203.36344088042,327.8695338527766\n",
      "3000,-91176.47791066737,321.6197705744075\n"
     ]
    }
   ],
   "source": [
    "integrator = LangevinIntegrator(300*kelvin, 1/picosecond, 0.001*picoseconds)\n",
    "system = forcefield.createSystem(modeller.topology)\n",
    "simulation = Simulation(modeller.topology, system, integrator)\n",
    "simulation.context.setPositions(modeller.positions)\n",
    "#simulation.minimizeEnergy()\n",
    "simulation.reporters.append(PDBReporter('polyA_with_H.pdb',100))\n",
    "simulation.reporters.append(StateDataReporter(stdout, 500, step=True,potentialEnergy=True, temperature=True))\n",
    "simulation.step(3000)"
   ]
  },
  {
   "cell_type": "code",
   "execution_count": 17,
   "metadata": {},
   "outputs": [
    {
     "data": {
      "application/vnd.jupyter.widget-view+json": {
       "model_id": "a558bacccd004c92b10764acee0b28f6",
       "version_major": 2,
       "version_minor": 0
      },
      "text/plain": [
       "NGLWidget(count=10)"
      ]
     },
     "metadata": {},
     "output_type": "display_data"
    }
   ],
   "source": [
    "traj = pt.load('polyA_with_H.pdb')\n",
    "pt.rotate(traj, 'y 90')\n",
    "view = nv.show_pytraj(traj)\n",
    "view.add_ball_and_stick('not protein')\n",
    "view"
   ]
  },
  {
   "cell_type": "code",
   "execution_count": null,
   "metadata": {},
   "outputs": [],
   "source": []
  }
 ],
 "metadata": {
  "kernelspec": {
   "display_name": "nglview",
   "language": "python",
   "name": "nglview"
  },
  "language_info": {
   "codemirror_mode": {
    "name": "ipython",
    "version": 3
   },
   "file_extension": ".py",
   "mimetype": "text/x-python",
   "name": "python",
   "nbconvert_exporter": "python",
   "pygments_lexer": "ipython3",
   "version": "3.6.10"
  }
 },
 "nbformat": 4,
 "nbformat_minor": 4
}
