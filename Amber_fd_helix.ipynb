{
 "cells": [
  {
   "cell_type": "code",
   "execution_count": 3,
   "metadata": {},
   "outputs": [],
   "source": [
    "#conda install -c ambermd pytraj\n",
    "#conda install -c bioconda nglview\n",
    "#jupyter-nbextension enable nglview --py --sys-prefix\n",
    "#%matplotlib widget"
   ]
  },
  {
   "cell_type": "code",
   "execution_count": null,
   "metadata": {},
   "outputs": [],
   "source": [
    "#interactive \n",
    "import pytraj as pt\n",
    "import nglview as nv\n",
    "from subprocess import call\n",
    "with open(\"polyA.pdb\", \"w\") as f:\n",
    "    call([\"./fd_helix\", \"abdna\",\"aaaaaaaaaa\"], stdout=f)\n",
    "traj = pt.load('polyA.pdb')\n",
    "pt.rotate(traj, 'y 90')\n",
    "view = nv.show_pytraj(traj)\n",
    "view"
   ]
  },
  {
   "cell_type": "code",
   "execution_count": 2,
   "metadata": {},
   "outputs": [],
   "source": [
    "#conda install -c omnia openmm\n",
    "from simtk.openmm.app import *\n",
    "from simtk.openmm import *\n",
    "from simtk.unit import *\n",
    "from sys import stdout\n",
    "\n",
    "pdb = PDBFile('polyA.pdb')\n",
    "pdb.getTopology()"
   ]
  },
  {
   "cell_type": "code",
   "execution_count": 5,
   "metadata": {},
   "outputs": [
    {
     "data": {
      "text/plain": [
       "<Topology; 2 chains, 20 residues, 638 atoms, 686 bonds>"
      ]
     },
     "execution_count": 5,
     "metadata": {},
     "output_type": "execute_result"
    }
   ],
   "source": [
    "modeller = Modeller (pdb.topology, pdb.positions)\n",
    "forcefield = ForceField('amber14-all.xml', 'amber14/tip3pfb.xml')\n",
    "modeller.addHydrogens (forcefield)\n",
    "modeller.getTopology()"
   ]
  },
  {
   "cell_type": "code",
   "execution_count": 6,
   "metadata": {},
   "outputs": [
    {
     "data": {
      "application/vnd.jupyter.widget-view+json": {
       "model_id": "88e777085bee43de9973cff6ae08888e",
       "version_major": 2,
       "version_minor": 0
      },
      "text/plain": [
       "NGLWidget()"
      ]
     },
     "metadata": {},
     "output_type": "display_data"
    }
   ],
   "source": [
    "pdbfile.PDBFile.writeModel(modeller.topology,modeller.positions,open('polyA_with_H.pdb','w'))\n",
    "traj = pt.load('polyA_with_H.pdb')\n",
    "pt.rotate(traj, 'y 90')\n",
    "view = nv.show_pytraj(traj)\n",
    "view.add_ball_and_stick('not protein')\n",
    "view"
   ]
  },
  {
   "cell_type": "code",
   "execution_count": 6,
   "metadata": {},
   "outputs": [],
   "source": [
    "integrator = LangevinIntegrator(300*kelvin, 1/picosecond, 0.001*picoseconds)\n",
    "system = forcefield.createSystem(modeller.topology)\n",
    "simulation = Simulation(modeller.topology, system, integrator)\n",
    "simulation.context.setPositions(modeller.positions)\n",
    "#simulation.minimizeEnergy()"
   ]
  },
  {
   "cell_type": "code",
   "execution_count": 7,
   "metadata": {
    "scrolled": true
   },
   "outputs": [
    {
     "name": "stdout",
     "output_type": "stream",
     "text": [
      "#\"Step\",\"Potential Energy (kJ/mole)\",\"Temperature (K)\"\n",
      "500,7040.9327794529245,243.01056162362443\n",
      "1000,6778.741831626034,303.2860580009655\n",
      "1500,6531.520544483888,318.20409088669817\n",
      "2000,6378.362160636245,320.81211537117406\n",
      "2500,6016.904381118435,315.1465192263966\n",
      "3000,5848.989507700089,319.0844973795195\n"
     ]
    }
   ],
   "source": [
    "simulation.reporters.append(PDBReporter('polyA_with_H.pdb',100))\n",
    "simulation.reporters.append(StateDataReporter(stdout, 500, step=True,potentialEnergy=True, temperature=True))\n",
    "simulation.step(3000)"
   ]
  },
  {
   "cell_type": "code",
   "execution_count": 8,
   "metadata": {},
   "outputs": [
    {
     "data": {
      "application/vnd.jupyter.widget-view+json": {
       "model_id": "90482ecb83ec4f84b22d02141e6c6448",
       "version_major": 2,
       "version_minor": 0
      },
      "text/plain": [
       "NGLWidget(count=30)"
      ]
     },
     "metadata": {},
     "output_type": "display_data"
    }
   ],
   "source": [
    "traj = pt.load('polyA_with_H.pdb')\n",
    "pt.rotate(traj, 'y 90')\n",
    "view = nv.show_pytraj(traj)\n",
    "view.add_ball_and_stick('not protein')\n",
    "view"
   ]
  },
  {
   "cell_type": "code",
   "execution_count": 9,
   "metadata": {},
   "outputs": [],
   "source": [
    "import parmed as pmd\n",
    "pdbfile = PDBFile('polyA_with_H.pdb')\n",
    "structure = pmd.openmm.topsystem.load_topology( pdbfile.topology, system, pdbfile.positions)\n",
    "structure.save('polyA_with_H.prmtop', overwrite=True)\n",
    "structure.save('polyA_with_H.inpcrd', format='rst7', overwrite=True)\n",
    "prmtop = AmberPrmtopFile('polyA_with_H.prmtop')\n",
    "inpcrd = AmberInpcrdFile('polyA_with_H.inpcrd')"
   ]
  },
  {
   "cell_type": "code",
   "execution_count": 10,
   "metadata": {},
   "outputs": [
    {
     "name": "stderr",
     "output_type": "stream",
     "text": [
      "/home/mahdi_moqri/anaconda3/envs/nglview/lib/python3.6/site-packages/simtk/openmm/app/internal/amber_file_parser.py:1019: UserWarning: Non-optimal GB parameters detected for GB model HCT\n",
      "  'Non-optimal GB parameters detected for GB model %s' % gbmodel)\n"
     ]
    }
   ],
   "source": [
    "integrator = LangevinIntegrator(300*kelvin, 1/picosecond, 0.001*picoseconds)\n",
    "system = prmtop.createSystem(implicitSolvent=HCT)\n",
    "simulation = Simulation(modeller.topology, system, integrator)\n",
    "simulation.context.setPositions(modeller.positions)"
   ]
  },
  {
   "cell_type": "code",
   "execution_count": 11,
   "metadata": {},
   "outputs": [
    {
     "name": "stdout",
     "output_type": "stream",
     "text": [
      "#\"Step\",\"Potential Energy (kJ/mole)\",\"Temperature (K)\"\n",
      "500,959865.4957894722,243.04609158814398\n",
      "1000,959819.0947681121,283.3169190045422\n",
      "1500,959927.8028189342,295.25839653091015\n",
      "2000,960064.2913005712,282.5264487474633\n",
      "2500,960089.6395222802,291.7759616795708\n",
      "3000,959950.5212129389,302.26002950795856\n"
     ]
    }
   ],
   "source": [
    "simulation.reporters.append(PDBReporter('polyA_with_H.pdb',100))\n",
    "simulation.reporters.append(StateDataReporter(stdout, 500, step=True,potentialEnergy=True, temperature=True))\n",
    "simulation.step(3000)"
   ]
  },
  {
   "cell_type": "code",
   "execution_count": 12,
   "metadata": {},
   "outputs": [
    {
     "data": {
      "application/vnd.jupyter.widget-view+json": {
       "model_id": "c9b3662111bd448891d04e4de76ba283",
       "version_major": 2,
       "version_minor": 0
      },
      "text/plain": [
       "NGLWidget(count=30)"
      ]
     },
     "metadata": {},
     "output_type": "display_data"
    }
   ],
   "source": [
    "traj = pt.load('polyA_with_H.pdb')\n",
    "pt.rotate(traj, 'y 90')\n",
    "view = nv.show_pytraj(traj)\n",
    "view.add_ball_and_stick('not protein')\n",
    "view"
   ]
  },
  {
   "cell_type": "code",
   "execution_count": 13,
   "metadata": {},
   "outputs": [],
   "source": [
    "modeller.addSolvent(forcefield, boxSize=Vec3(5.0, 3.5, 3.5)*nanometers)"
   ]
  },
  {
   "cell_type": "code",
   "execution_count": 14,
   "metadata": {},
   "outputs": [
    {
     "name": "stdout",
     "output_type": "stream",
     "text": [
      "#\"Step\",\"Potential Energy (kJ/mole)\",\"Temperature (K)\"\n",
      "500,-82661.56195945281,364.7470196162332\n",
      "1000,-85785.6421217677,366.0999355207831\n",
      "1500,-87298.96207504386,346.92900578000007\n",
      "2000,-88605.44512947416,335.52958116706264\n",
      "2500,-90285.79737571432,334.5668581647169\n",
      "3000,-91181.86733946975,318.077263492028\n"
     ]
    }
   ],
   "source": [
    "integrator = LangevinIntegrator(300*kelvin, 1/picosecond, 0.001*picoseconds)\n",
    "system = forcefield.createSystem(modeller.topology)\n",
    "simulation = Simulation(modeller.topology, system, integrator)\n",
    "simulation.context.setPositions(modeller.positions)\n",
    "#simulation.minimizeEnergy()\n",
    "simulation.reporters.append(PDBReporter('polyA_with_H.pdb',100))\n",
    "simulation.reporters.append(StateDataReporter(stdout, 500, step=True,potentialEnergy=True, temperature=True))\n",
    "simulation.step(3000)"
   ]
  },
  {
   "cell_type": "code",
   "execution_count": 15,
   "metadata": {},
   "outputs": [
    {
     "data": {
      "application/vnd.jupyter.widget-view+json": {
       "model_id": "32ae53fc62884f5da6f4013cefd8ae07",
       "version_major": 2,
       "version_minor": 0
      },
      "text/plain": [
       "NGLWidget(count=30)"
      ]
     },
     "metadata": {},
     "output_type": "display_data"
    }
   ],
   "source": [
    "traj = pt.load('polyA_with_H.pdb')\n",
    "pt.rotate(traj, 'y 90')\n",
    "view = nv.show_pytraj(traj)\n",
    "view.add_ball_and_stick('not protein')\n",
    "view"
   ]
  }
 ],
 "metadata": {
  "kernelspec": {
   "display_name": "nglview",
   "language": "python",
   "name": "nglview"
  },
  "language_info": {
   "codemirror_mode": {
    "name": "ipython",
    "version": 3
   },
   "file_extension": ".py",
   "mimetype": "text/x-python",
   "name": "python",
   "nbconvert_exporter": "python",
   "pygments_lexer": "ipython3",
   "version": "3.6.10"
  }
 },
 "nbformat": 4,
 "nbformat_minor": 4
}
