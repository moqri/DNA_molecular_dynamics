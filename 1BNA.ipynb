{
 "cells": [
  {
   "cell_type": "code",
   "execution_count": 4,
   "metadata": {},
   "outputs": [
    {
     "name": "stdout",
     "output_type": "stream",
     "text": [
      "--2020-04-21 17:04:42--  https://files.rcsb.org/download/1BNA.pdb\n",
      "Resolving files.rcsb.org (files.rcsb.org)... 132.249.213.91\n",
      "Connecting to files.rcsb.org (files.rcsb.org)|132.249.213.91|:443... connected.\n",
      "HTTP request sent, awaiting response... 200 OK\n",
      "Length: unspecified [application/octet-stream]\n",
      "Saving to: ‘1BNA.pdb’\n",
      "\n",
      "1BNA.pdb                [ <=>                ]  76.02K  --.-KB/s    in 0.04s   \n",
      "\n",
      "Last-modified header missing -- time-stamps turned off.\n",
      "2020-04-21 17:04:43 (1.88 MB/s) - ‘1BNA.pdb’ saved [77841]\n",
      "\n"
     ]
    }
   ],
   "source": [
    "!wget -N https://files.rcsb.org/download/1BNA.pdb"
   ]
  },
  {
   "cell_type": "code",
   "execution_count": 5,
   "metadata": {},
   "outputs": [
    {
     "data": {
      "application/vnd.jupyter.widget-view+json": {
       "model_id": "02e2f62864224579baddd078aa3aea29",
       "version_major": 2,
       "version_minor": 0
      },
      "text/plain": [
       "_ColormakerRegistry()"
      ]
     },
     "metadata": {},
     "output_type": "display_data"
    },
    {
     "data": {
      "application/vnd.jupyter.widget-view+json": {
       "model_id": "9f18593494e54ced8aa23584f1ec0fc3",
       "version_major": 2,
       "version_minor": 0
      },
      "text/plain": [
       "NGLWidget()"
      ]
     },
     "metadata": {},
     "output_type": "display_data"
    }
   ],
   "source": [
    "import nglview as nv\n",
    "import pytraj as pt\n",
    "traj = pt.load('1BNA.pdb')\n",
    "view = nv.show_pytraj(traj)\n",
    "view"
   ]
  },
  {
   "cell_type": "code",
   "execution_count": 18,
   "metadata": {},
   "outputs": [
    {
     "name": "stdout",
     "output_type": "stream",
     "text": [
      "Loading...\n",
      "Adding hydrogens...\n",
      "Adding solvent...\n",
      "Minimizing...\n"
     ]
    }
   ],
   "source": [
    "from simtk.openmm.app import *\n",
    "from simtk.openmm import *\n",
    "from simtk.unit import *\n",
    "from sys import stdout\n",
    "\n",
    "print('Loading...')\n",
    "pdb = PDBFile('1BNA.pdb')\n",
    "forcefield = ForceField('amber99sb.xml', 'tip3p.xml')\n",
    "modeller = Modeller(pdb.topology, pdb.positions)\n",
    "print('Adding hydrogens...')\n",
    "modeller.addHydrogens(forcefield)\n",
    "print('Adding solvent...')\n",
    "modeller.addSolvent(forcefield, model='tip3p', padding=1*nanometer)\n",
    "print('Minimizing...')\n",
    "system = forcefield.createSystem(modeller.topology, nonbondedMethod=PME)"
   ]
  },
  {
   "cell_type": "code",
   "execution_count": 19,
   "metadata": {},
   "outputs": [
    {
     "name": "stdout",
     "output_type": "stream",
     "text": [
      "Saving...\n",
      "Done\n"
     ]
    }
   ],
   "source": [
    "integrator = VerletIntegrator(0.002*picoseconds)\n",
    "#platform = Platform.getPlatformByName('CUDA')\n",
    "simulation = Simulation(modeller.topology, system, integrator)#,platform)\n",
    "simulation.context.setPositions(modeller.positions)\n",
    "simulation.minimizeEnergy(maxIterations=100)\n",
    "print('Saving...')\n",
    "positions = simulation.context.getState(getPositions=True).getPositions()\n",
    "PDBFile.writeFile(simulation.topology, positions, open('1BNA_minimized.pdb', 'w'))\n",
    "print('Done')"
   ]
  },
  {
   "cell_type": "code",
   "execution_count": 20,
   "metadata": {},
   "outputs": [
    {
     "data": {
      "application/vnd.jupyter.widget-view+json": {
       "model_id": "1d3e653484eb4a68a7dc403cfba77d69",
       "version_major": 2,
       "version_minor": 0
      },
      "text/plain": [
       "NGLWidget()"
      ]
     },
     "metadata": {},
     "output_type": "display_data"
    }
   ],
   "source": [
    "import nglview as nv\n",
    "import pytraj as pt\n",
    "traj = pt.load('1BNA_minimized.pdb')\n",
    "view = nv.show_pytraj(traj)\n",
    "view"
   ]
  },
  {
   "cell_type": "code",
   "execution_count": 21,
   "metadata": {},
   "outputs": [
    {
     "name": "stdout",
     "output_type": "stream",
     "text": [
      "#\"Step\",\"Potential Energy (kJ/mole)\",\"Temperature (K)\"\n",
      "10000,-419930.6840762526,87.94914320863407\n",
      "20000,-420490.5590762526,90.6108690854363\n",
      "30000,-421010.1840762526,93.12129273870163\n",
      "40000,-421154.9340762526,93.76126449499108\n",
      "50000,-421210.4340762526,94.02108210410611\n",
      "60000,-421475.1840762526,95.31738919911794\n",
      "70000,-421508.6840762526,95.45622205798077\n",
      "80000,-421568.4340762526,95.73329734933492\n",
      "90000,-421781.4340762526,96.73299890794469\n",
      "100000,-421766.6840762526,96.65776084885474\n"
     ]
    }
   ],
   "source": [
    "simulation.reporters.append(PDBReporter('1BNA_produced.pdb', 10000))\n",
    "simulation.reporters.append(StateDataReporter(stdout, 10000, step=True,\n",
    "        potentialEnergy=True, temperature=True))\n",
    "simulation.step(100000)"
   ]
  },
  {
   "cell_type": "code",
   "execution_count": 22,
   "metadata": {},
   "outputs": [
    {
     "data": {
      "application/vnd.jupyter.widget-view+json": {
       "model_id": "56c874ef4af1438c8396d62f788e77a0",
       "version_major": 2,
       "version_minor": 0
      },
      "text/plain": [
       "NGLWidget(max_frame=9)"
      ]
     },
     "metadata": {},
     "output_type": "display_data"
    }
   ],
   "source": [
    "import nglview as nv\n",
    "import pytraj as pt\n",
    "traj = pt.load('1BNA_produced.pdb')\n",
    "view = nv.show_pytraj(traj)\n",
    "view"
   ]
  },
  {
   "cell_type": "code",
   "execution_count": null,
   "metadata": {},
   "outputs": [],
   "source": []
  }
 ],
 "metadata": {
  "kernelspec": {
   "display_name": "md",
   "language": "python",
   "name": "md"
  },
  "language_info": {
   "codemirror_mode": {
    "name": "ipython",
    "version": 3
   },
   "file_extension": ".py",
   "mimetype": "text/x-python",
   "name": "python",
   "nbconvert_exporter": "python",
   "pygments_lexer": "ipython3",
   "version": "3.7.6"
  }
 },
 "nbformat": 4,
 "nbformat_minor": 4
}
